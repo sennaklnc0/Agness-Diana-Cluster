{
 "cells": [
  {
   "cell_type": "code",
   "execution_count": 92,
   "id": "939e884d-3cf4-4b44-8cf4-4c9da8fa9026",
   "metadata": {},
   "outputs": [],
   "source": [
    "import pandas as pd\n",
    "from sklearn.preprocessing import StandardScaler\n",
    "import numpy as np\n",
    "import matplotlib.pyplot as plt\n",
    "from sklearn.metrics import mean_squared_error\n",
    "from sklearn.preprocessing import LabelEncoder"
   ]
  },
  {
   "cell_type": "code",
   "execution_count": 93,
   "id": "447af2d8-d979-4011-88f3-2dcfa89c4b58",
   "metadata": {},
   "outputs": [],
   "source": [
    "# CSV dosyasından veri setini yükle\n",
    "data = pd.read_csv(\"DATA/Iris.csv\")"
   ]
  },
  {
   "cell_type": "code",
   "execution_count": 94,
   "id": "1409874f-d659-4c91-bf4f-11dfccca8ea3",
   "metadata": {
    "scrolled": true
   },
   "outputs": [
    {
     "data": {
      "text/html": [
       "<div>\n",
       "<style scoped>\n",
       "    .dataframe tbody tr th:only-of-type {\n",
       "        vertical-align: middle;\n",
       "    }\n",
       "\n",
       "    .dataframe tbody tr th {\n",
       "        vertical-align: top;\n",
       "    }\n",
       "\n",
       "    .dataframe thead th {\n",
       "        text-align: right;\n",
       "    }\n",
       "</style>\n",
       "<table border=\"1\" class=\"dataframe\">\n",
       "  <thead>\n",
       "    <tr style=\"text-align: right;\">\n",
       "      <th></th>\n",
       "      <th>Id</th>\n",
       "      <th>SepalLengthCm</th>\n",
       "      <th>SepalWidthCm</th>\n",
       "      <th>PetalLengthCm</th>\n",
       "      <th>PetalWidthCm</th>\n",
       "      <th>Species</th>\n",
       "    </tr>\n",
       "  </thead>\n",
       "  <tbody>\n",
       "    <tr>\n",
       "      <th>0</th>\n",
       "      <td>1</td>\n",
       "      <td>5.1</td>\n",
       "      <td>3.5</td>\n",
       "      <td>1.4</td>\n",
       "      <td>0.2</td>\n",
       "      <td>Iris-setosa</td>\n",
       "    </tr>\n",
       "    <tr>\n",
       "      <th>1</th>\n",
       "      <td>2</td>\n",
       "      <td>4.9</td>\n",
       "      <td>3.0</td>\n",
       "      <td>1.4</td>\n",
       "      <td>0.2</td>\n",
       "      <td>Iris-setosa</td>\n",
       "    </tr>\n",
       "    <tr>\n",
       "      <th>2</th>\n",
       "      <td>3</td>\n",
       "      <td>4.7</td>\n",
       "      <td>3.2</td>\n",
       "      <td>1.3</td>\n",
       "      <td>0.2</td>\n",
       "      <td>Iris-setosa</td>\n",
       "    </tr>\n",
       "    <tr>\n",
       "      <th>3</th>\n",
       "      <td>4</td>\n",
       "      <td>4.6</td>\n",
       "      <td>3.1</td>\n",
       "      <td>1.5</td>\n",
       "      <td>0.2</td>\n",
       "      <td>Iris-setosa</td>\n",
       "    </tr>\n",
       "    <tr>\n",
       "      <th>4</th>\n",
       "      <td>5</td>\n",
       "      <td>5.0</td>\n",
       "      <td>3.6</td>\n",
       "      <td>1.4</td>\n",
       "      <td>0.2</td>\n",
       "      <td>Iris-setosa</td>\n",
       "    </tr>\n",
       "  </tbody>\n",
       "</table>\n",
       "</div>"
      ],
      "text/plain": [
       "   Id  SepalLengthCm  SepalWidthCm  PetalLengthCm  PetalWidthCm      Species\n",
       "0   1            5.1           3.5            1.4           0.2  Iris-setosa\n",
       "1   2            4.9           3.0            1.4           0.2  Iris-setosa\n",
       "2   3            4.7           3.2            1.3           0.2  Iris-setosa\n",
       "3   4            4.6           3.1            1.5           0.2  Iris-setosa\n",
       "4   5            5.0           3.6            1.4           0.2  Iris-setosa"
      ]
     },
     "execution_count": 94,
     "metadata": {},
     "output_type": "execute_result"
    }
   ],
   "source": [
    "data.head()"
   ]
  },
  {
   "cell_type": "code",
   "execution_count": 95,
   "id": "e5fb240a-f762-4ca1-b6c4-6d785b589f38",
   "metadata": {},
   "outputs": [],
   "source": [
    "# Veri setinden özellikleri ve etiketleri ayır\n",
    "X = data.drop('Species', axis=1).values\n",
    "y = data['Species'].values"
   ]
  },
  {
   "cell_type": "code",
   "execution_count": 96,
   "id": "de603f22-7210-4fd3-8aa8-5086742af023",
   "metadata": {},
   "outputs": [],
   "source": [
    "# Özellikleri standartlaştırma\n",
    "scaler = StandardScaler()\n",
    "X_scaled = scaler.fit_transform(X)"
   ]
  },
  {
   "cell_type": "code",
   "execution_count": 97,
   "id": "18e6485b-c70d-4b6d-a7c7-3fd984663c07",
   "metadata": {},
   "outputs": [],
   "source": [
    "# Diana kümeleme algoritması\n",
    "def diana(X, k):\n",
    "    n = X.shape[0]  # Veri noktalarının sayısı\n",
    "    clusters = [[i] for i in range(n)]  # Başlangıçta her veri noktası bir küme\n",
    "\n",
    "    while len(clusters) > k:\n",
    "        max_dist = -1\n",
    "        merge_i = -1\n",
    "        merge_j = -1\n",
    "\n",
    "        # En büyük mesafeyi bul\n",
    "        for i in range(len(clusters)):\n",
    "            for j in range(i + 1, len(clusters)):\n",
    "                dist = np.linalg.norm(np.mean(X[clusters[i]], axis=0) - np.mean(X[clusters[j]], axis=0))\n",
    "                if dist > max_dist:\n",
    "                    max_dist = dist\n",
    "                    merge_i = i\n",
    "                    merge_j = j\n",
    "\n",
    "        # İki kümenin birleştirilmesi\n",
    "        clusters[merge_i].extend(clusters[merge_j])\n",
    "        del clusters[merge_j]\n",
    "\n",
    "    return clusters"
   ]
  },
  {
   "cell_type": "code",
   "execution_count": 98,
   "id": "93298a6f-1592-4dd3-a312-82220b4a7631",
   "metadata": {},
   "outputs": [],
   "source": [
    "# Kümeleme sonuçlarını görselleştirme\n",
    "def visualize_clusters(X, clusters):\n",
    "    # Her küme için farklı renkler\n",
    "    colors = ['r', 'g', 'b', 'c', 'm', 'y', 'k']\n",
    "\n",
    "    for i, cluster in enumerate(clusters):\n",
    "        cluster_points = X[cluster]\n",
    "        plt.scatter(cluster_points[:, 3], cluster_points[:, 4], c=colors[i], label=f'Cluster {i+1}')\n",
    "\n",
    "    plt.xlabel('Feature 1')\n",
    "    plt.ylabel('Feature 2')\n",
    "    plt.title('Diana Clustering')\n",
    "    plt.legend()\n",
    "    plt.show()"
   ]
  },
  {
   "cell_type": "code",
   "execution_count": 99,
   "id": "12f14eae-bc3c-4142-a5c0-2418a3ddd216",
   "metadata": {},
   "outputs": [],
   "source": [
    "# Diana kümeleme\n",
    "k = 3  # Küme sayısı\n",
    "clusters = diana(X_scaled, k)"
   ]
  },
  {
   "cell_type": "code",
   "execution_count": 100,
   "id": "dce07743-87ea-4471-8c76-e77fc6dd1160",
   "metadata": {},
   "outputs": [
    {
     "data": {
      "image/png": "[encoded data removed]",
      "text/plain": [
       "<Figure size 640x480 with 1 Axes>"
      ]
     },
     "metadata": {},
     "output_type": "display_data"
    }
   ],
   "source": [
    "visualize_clusters(X_scaled, clusters)"
   ]
  },
  {
   "cell_type": "code",
   "execution_count": 105,
   "id": "a4b6527f-6645-48f3-bfd7-fe08757255df",
   "metadata": {},
   "outputs": [],
   "source": [
    "# Gerçek etiketlerin yüklenmesi\n",
    "true_labels = data['Species']"
   ]
  },
  {
   "cell_type": "code",
   "execution_count": 106,
   "id": "0ec94a4a-9cdc-4ab7-a954-afbdd0cbf7d4",
   "metadata": {},
   "outputs": [],
   "source": [
    "# Dönüştürme işlemi gerekebilir (Sınıfları numerik değerlere dönüştürmek)\n",
    "# Bu örnek için her bir sınıfın ismi bir numerik değerle eşleştirilmiş olsun.\n",
    "# Örneğin: \"Iris-setosa\" -> 0, \"Iris-versicolor\" -> 1, \"Iris-virginica\" -> 2\n",
    "true_labels.replace({\"Iris-setosa\": 0, \"Iris-versicolor\": 1, \"Iris-virginica\": 2}, inplace=True)"
   ]
  },
  {
   "cell_type": "code",
   "execution_count": 107,
   "id": "d5a4b4cc-8c2f-476a-a1ef-90fb22045b9d",
   "metadata": {},
   "outputs": [],
   "source": [
    "# Kümeleme sonuçlarının indekslerini yeniden düzenleme\n",
    "cluster_labels = np.zeros_like(true_labels)\n",
    "for i, cluster in enumerate(clusters):\n",
    "    for point_idx in cluster:\n",
    "        cluster_labels[point_idx] = i"
   ]
  },
  {
   "cell_type": "code",
   "execution_count": 108,
   "id": "a7acf8bf-bfde-42bc-a2b3-1d9ab6e13c71",
   "metadata": {},
   "outputs": [
    {
     "name": "stdout",
     "output_type": "stream",
     "text": [
      "Ortalama Kare Hatası: 1.4\n"
     ]
    }
   ],
   "source": [
    "# Ortalama Kare Hatasının hesaplanması\n",
    "mse = mean_squared_error(true_labels, cluster_labels)\n",
    "print(\"Ortalama Kare Hatası:\", mse)"
   ]
  },
  {
   "cell_type": "code",
   "execution_count": null,
   "id": "3821c5f8-06f9-42eb-965b-b64f09830134",
   "metadata": {},
   "outputs": [],
   "source": []
  }
 ],
 "metadata": {
  "kernelspec": {
   "display_name": "Python 3 (ipykernel)",
   "language": "python",
   "name": "python3"
  },
  "language_info": {
   "codemirror_mode": {
    "name": "ipython",
    "version": 3
   },
   "file_extension": ".py",
   "mimetype": "text/x-python",
   "name": "python",
   "nbconvert_exporter": "python",
   "pygments_lexer": "ipython3",
   "version": "3.11.7"
  }
 },
 "nbformat": 4,
 "nbformat_minor": 5
}
