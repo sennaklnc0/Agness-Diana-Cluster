{
 "cells": [
  {
   "cell_type": "code",
   "execution_count": 5,
   "id": "614a5adb-e0bd-4662-90ee-5849e068cf47",
   "metadata": {},
   "outputs": [],
   "source": [
    "import pandas as pd\n",
    "from sklearn.preprocessing import StandardScaler\n",
    "import numpy as np\n",
    "import matplotlib.pyplot as plt\n",
    "from sklearn.metrics import mean_squared_error"
   ]
  },
  {
   "cell_type": "code",
   "execution_count": 6,
   "id": "e24ae1d5-7ca7-464d-bca7-7d92cda9ee86",
   "metadata": {},
   "outputs": [],
   "source": [
    "# CSV dosyasından veri setini yükle\n",
    "data = pd.read_csv(\"DATA/seeds_dataset.txt\",sep = \"\\t\", header = None)"
   ]
  },
  {
   "cell_type": "code",
   "execution_count": 7,
   "id": "621fc503-3c4c-4a97-b34b-31fb57776211",
   "metadata": {},
   "outputs": [
    {
     "data": {
      "text/html": [
       "<div>\n",
       "<style scoped>\n",
       "    .dataframe tbody tr th:only-of-type {\n",
       "        vertical-align: middle;\n",
       "    }\n",
       "\n",
       "    .dataframe tbody tr th {\n",
       "        vertical-align: top;\n",
       "    }\n",
       "\n",
       "    .dataframe thead th {\n",
       "        text-align: right;\n",
       "    }\n",
       "</style>\n",
       "<table border=\"1\" class=\"dataframe\">\n",
       "  <thead>\n",
       "    <tr style=\"text-align: right;\">\n",
       "      <th></th>\n",
       "      <th>0</th>\n",
       "      <th>1</th>\n",
       "      <th>2</th>\n",
       "      <th>3</th>\n",
       "      <th>4</th>\n",
       "      <th>5</th>\n",
       "      <th>6</th>\n",
       "      <th>7</th>\n",
       "    </tr>\n",
       "  </thead>\n",
       "  <tbody>\n",
       "    <tr>\n",
       "      <th>0</th>\n",
       "      <td>15.26</td>\n",
       "      <td>14.84</td>\n",
       "      <td>0.8710</td>\n",
       "      <td>5.763</td>\n",
       "      <td>3.312</td>\n",
       "      <td>2.221</td>\n",
       "      <td>5.220</td>\n",
       "      <td>1</td>\n",
       "    </tr>\n",
       "    <tr>\n",
       "      <th>1</th>\n",
       "      <td>14.88</td>\n",
       "      <td>14.57</td>\n",
       "      <td>0.8811</td>\n",
       "      <td>5.554</td>\n",
       "      <td>3.333</td>\n",
       "      <td>1.018</td>\n",
       "      <td>4.956</td>\n",
       "      <td>1</td>\n",
       "    </tr>\n",
       "    <tr>\n",
       "      <th>2</th>\n",
       "      <td>14.29</td>\n",
       "      <td>14.09</td>\n",
       "      <td>0.9050</td>\n",
       "      <td>5.291</td>\n",
       "      <td>3.337</td>\n",
       "      <td>2.699</td>\n",
       "      <td>4.825</td>\n",
       "      <td>1</td>\n",
       "    </tr>\n",
       "    <tr>\n",
       "      <th>3</th>\n",
       "      <td>13.84</td>\n",
       "      <td>13.94</td>\n",
       "      <td>0.8955</td>\n",
       "      <td>5.324</td>\n",
       "      <td>3.379</td>\n",
       "      <td>2.259</td>\n",
       "      <td>4.805</td>\n",
       "      <td>1</td>\n",
       "    </tr>\n",
       "    <tr>\n",
       "      <th>4</th>\n",
       "      <td>16.14</td>\n",
       "      <td>14.99</td>\n",
       "      <td>0.9034</td>\n",
       "      <td>5.658</td>\n",
       "      <td>3.562</td>\n",
       "      <td>1.355</td>\n",
       "      <td>5.175</td>\n",
       "      <td>1</td>\n",
       "    </tr>\n",
       "  </tbody>\n",
       "</table>\n",
       "</div>"
      ],
      "text/plain": [
       "       0      1       2      3      4      5      6  7\n",
       "0  15.26  14.84  0.8710  5.763  3.312  2.221  5.220  1\n",
       "1  14.88  14.57  0.8811  5.554  3.333  1.018  4.956  1\n",
       "2  14.29  14.09  0.9050  5.291  3.337  2.699  4.825  1\n",
       "3  13.84  13.94  0.8955  5.324  3.379  2.259  4.805  1\n",
       "4  16.14  14.99  0.9034  5.658  3.562  1.355  5.175  1"
      ]
     },
     "execution_count": 7,
     "metadata": {},
     "output_type": "execute_result"
    }
   ],
   "source": [
    "data.head()"
   ]
  },
  {
   "cell_type": "code",
   "execution_count": 8,
   "id": "4e16db04-797f-44db-9b7c-f6f99276dc4e",
   "metadata": {},
   "outputs": [],
   "source": [
    "# Veri setinden özellikleri ve etiketleri ayır\n",
    "X = data.drop(7, axis=1).values\n",
    "y = data[7].values"
   ]
  },
  {
   "cell_type": "code",
   "execution_count": 9,
   "id": "a268bdda-0913-4af9-a1ce-c9d31ac29f91",
   "metadata": {},
   "outputs": [],
   "source": [
    "# Özellikleri standartlaştırma\n",
    "scaler = StandardScaler()\n",
    "X_scaled = scaler.fit_transform(X)"
   ]
  },
  {
   "cell_type": "code",
   "execution_count": 10,
   "id": "9fff2f9d-adcb-492b-8d52-1f654cd6949b",
   "metadata": {},
   "outputs": [],
   "source": [
    "# Diana kümeleme algoritması\n",
    "def diana(X, k):\n",
    "    n = X.shape[0]  # Veri noktalarının sayısı\n",
    "    clusters = [[i] for i in range(n)]  # Başlangıçta her veri noktası bir küme\n",
    "\n",
    "    while len(clusters) > k:\n",
    "        max_dist = -1\n",
    "        merge_i = -1\n",
    "        merge_j = -1\n",
    "\n",
    "        # En büyük mesafeyi bul\n",
    "        for i in range(len(clusters)):\n",
    "            for j in range(i + 1, len(clusters)):\n",
    "                dist = np.linalg.norm(np.mean(X[clusters[i]], axis=0) - np.mean(X[clusters[j]], axis=0))\n",
    "                if dist > max_dist:\n",
    "                    max_dist = dist\n",
    "                    merge_i = i\n",
    "                    merge_j = j\n",
    "\n",
    "        # İki kümenin birleştirilmesi\n",
    "        clusters[merge_i].extend(clusters[merge_j])\n",
    "        del clusters[merge_j]\n",
    "\n",
    "    return clusters"
   ]
  },
  {
   "cell_type": "code",
   "execution_count": 16,
   "id": "9e9f6692-b13e-4ada-8d80-70506d279d7a",
   "metadata": {},
   "outputs": [],
   "source": [
    "# Kümeleme sonuçlarını görselleştirme\n",
    "def visualize_clusters(X, clusters):\n",
    "    # Her küme için farklı renkler\n",
    "    colors = ['r', 'g', 'b', 'c', 'm', 'y', 'k']\n",
    "\n",
    "    for i, cluster in enumerate(clusters):\n",
    "        cluster_points = X[cluster]\n",
    "        plt.scatter(cluster_points[:, 2], cluster_points[:, 3], c=colors[i], label=f'Cluster {i+1}')\n",
    "\n",
    "    plt.xlabel('2')\n",
    "    plt.ylabel('3')\n",
    "    plt.title('Diana Clustering')\n",
    "    plt.legend()\n",
    "    plt.show()"
   ]
  },
  {
   "cell_type": "code",
   "execution_count": 17,
   "id": "9dd34f08-aaf7-4bbf-9c8b-71bb7646ae3d",
   "metadata": {},
   "outputs": [],
   "source": [
    "# Diana kümeleme\n",
    "k = 3  # Küme sayısı\n",
    "clusters = diana(X_scaled, k)"
   ]
  },
  {
   "cell_type": "code",
   "execution_count": 18,
   "id": "36dfe94d-85f4-429d-87bf-c5bf888163d1",
   "metadata": {},
   "outputs": [
    {
     "data": {
      "image/png": "[encoded data removed]",
      "text/plain": [
       "<Figure size 640x480 with 1 Axes>"
      ]
     },
     "metadata": {},
     "output_type": "display_data"
    }
   ],
   "source": [
    "visualize_clusters(X_scaled, clusters)"
   ]
  },
  {
   "cell_type": "code",
   "execution_count": 19,
   "id": "8eed9fdc-5d38-452a-a5aa-36f30614ab11",
   "metadata": {},
   "outputs": [],
   "source": [
    "# Gerçek etiketlerin yüklenmesi\n",
    "true_labels = data[7]"
   ]
  },
  {
   "cell_type": "code",
   "execution_count": 20,
   "id": "fc0db310-eccf-4fe3-ac6f-bf588e8342e1",
   "metadata": {},
   "outputs": [],
   "source": [
    "# Kümeleme sonuçlarının indekslerini yeniden düzenleme\n",
    "cluster_labels = np.zeros_like(true_labels)\n",
    "for i, cluster in enumerate(clusters):\n",
    "    for point_idx in cluster:\n",
    "        cluster_labels[point_idx] = i"
   ]
  },
  {
   "cell_type": "code",
   "execution_count": 21,
   "id": "369ee25b-e77b-4d06-a583-fe8653014ac6",
   "metadata": {},
   "outputs": [
    {
     "name": "stdout",
     "output_type": "stream",
     "text": [
      "Ortalama Kare Hatası: 2.9047619047619047\n"
     ]
    }
   ],
   "source": [
    "# Ortalama Kare Hatasının hesaplanması\n",
    "mse = mean_squared_error(true_labels, cluster_labels)\n",
    "print(\"Ortalama Kare Hatası:\", mse)"
   ]
  },
  {
   "cell_type": "code",
   "execution_count": null,
   "id": "55ce7262-0b12-4ec3-9222-53a3cc3df7c6",
   "metadata": {},
   "outputs": [],
   "source": []
  }
 ],
 "metadata": {
  "kernelspec": {
   "display_name": "Python 3 (ipykernel)",
   "language": "python",
   "name": "python3"
  },
  "language_info": {
   "codemirror_mode": {
    "name": "ipython",
    "version": 3
   },
   "file_extension": ".py",
   "mimetype": "text/x-python",
   "name": "python",
   "nbconvert_exporter": "python",
   "pygments_lexer": "ipython3",
   "version": "3.11.7"
  }
 },
 "nbformat": 4,
 "nbformat_minor": 5
}
